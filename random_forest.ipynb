{
 "cells": [
  {
   "cell_type": "code",
   "execution_count": 5,
   "metadata": {},
   "outputs": [],
   "source": [
    "#Obviously\n",
    "import numpy as np\n",
    "import pandas as pd\n",
    "#plotting\n",
    "import matplotlib.pyplot as plt\n",
    "import seaborn as sns\n",
    "#comp. resource tracing\n",
    "import tracemalloc\n",
    "import time \n",
    "\n",
    "#CIFAR-10 dataset, coloured images\n",
    "import pickle\n",
    "from keras.datasets import cifar10\n",
    "\n",
    "#Classifiers and methods\n",
    "from sklearn import svm,metrics\n",
    "from sklearn.ensemble import RandomForestClassifier\n",
    "from sklearn.model_selection import cross_val_score "
   ]
  },
  {
   "cell_type": "markdown",
   "metadata": {},
   "source": [
    "# CIFAR-10"
   ]
  },
  {
   "cell_type": "code",
   "execution_count": 6,
   "metadata": {},
   "outputs": [
    {
     "name": "stdout",
     "output_type": "stream",
     "text": [
      "Downloading data from https://www.cs.toronto.edu/~kriz/cifar-10-python.tar.gz\n",
      "170500096/170498071 [==============================] - 13s 0us/step\n",
      "50000 train samples\n",
      "10000 test samples\n"
     ]
    }
   ],
   "source": [
    "# data: shuffled and split between train and test sets\n",
    "(X_train, y_train), (X_test, y_test) = cifar10.load_data()\n",
    "\n",
    "# X_train is 50000 rows of 3x32x32 values --> reshaped in 50000 x 3072\n",
    "RESHAPED = 3072\n",
    "\n",
    "X_train = X_train.reshape(50000, RESHAPED)\n",
    "X_test = X_test.reshape(10000, RESHAPED)\n",
    "X_train = X_train.astype('float32')\n",
    "X_test = X_test.astype('float32')\n",
    "\n",
    "y_train = y_train.flatten()\n",
    "y_test = y_test.flatten()\n",
    "\n",
    "# normalize the datasets\n",
    "X_train /= 255.\n",
    "X_test /= 255.\n",
    "\n",
    "print(X_train.shape[0], 'train samples')\n",
    "print(X_test.shape[0], 'test samples')"
   ]
  },
  {
   "cell_type": "markdown",
   "metadata": {},
   "source": [
    "# Fashion-MNIST"
   ]
  },
  {
   "cell_type": "code",
   "execution_count": 32,
   "metadata": {},
   "outputs": [],
   "source": [
    "#Already normalized and reshaped\n",
    "train = np.loadtxt(\"MNIST_data/fashion_train.csv\",delimiter=\",\")\n",
    "test =  np.loadtxt(\"MNIST_data/fashion_test.csv\",delimiter=\",\")\n",
    "\n",
    "X_train, y_train = train[:,1:], train[:,0]\n",
    "X_test, y_test = test[:,1:], test[:,0]"
   ]
  },
  {
   "cell_type": "markdown",
   "metadata": {},
   "source": [
    "# Random Forest"
   ]
  },
  {
   "cell_type": "code",
   "execution_count": 7,
   "metadata": {},
   "outputs": [
    {
     "name": "stdout",
     "output_type": "stream",
     "text": [
      "\n",
      "RandomForestClassifier(bootstrap=True, ccp_alpha=0.0, class_weight=None,\n",
      "                       criterion='gini', max_depth=10, max_features='auto',\n",
      "                       max_leaf_nodes=None, max_samples=None,\n",
      "                       min_impurity_decrease=0.0, min_impurity_split=None,\n",
      "                       min_samples_leaf=10, min_samples_split=2,\n",
      "                       min_weight_fraction_leaf=0.0, n_estimators=10,\n",
      "                       n_jobs=None, oob_score=False, random_state=None,\n",
      "                       verbose=0, warm_start=False)\n"
     ]
    }
   ],
   "source": [
    "# fit a RandomForest model to the data\n",
    "\n",
    "#best parameters found online\n",
    "best_par = {'criterion': 'gini',\n",
    "'max_depth': 10,\n",
    "'max_features': 'auto',\n",
    "'min_samples_leaf': 10}\n",
    "\n",
    "\n",
    "model = RandomForestClassifier(n_estimators = 10, criterion = best_par[\"criterion\"],\n",
    "                              max_depth = best_par[\"max_depth\"], max_features = best_par[\"max_features\"],\n",
    "                              min_samples_leaf = best_par[\"min_samples_leaf\"])\n",
    "\n",
    "#cv_results = cross_val_score(model, X_train, y_train, \n",
    "                             #cv = 2, scoring='accuracy', \n",
    "                             #n_jobs = -1, verbose = 1)    \n",
    "\n",
    "model.fit(X_train, y_train)\n",
    "print(); print(model)"
   ]
  },
  {
   "cell_type": "code",
   "execution_count": null,
   "metadata": {},
   "outputs": [],
   "source": [
    "model.best"
   ]
  },
  {
   "cell_type": "code",
   "execution_count": 8,
   "metadata": {},
   "outputs": [
    {
     "name": "stdout",
     "output_type": "stream",
     "text": [
      "\n",
      "              precision    recall  f1-score   support\n",
      "\n",
      "           0       0.49      0.50      0.49      1000\n",
      "           1       0.43      0.45      0.44      1000\n",
      "           2       0.33      0.18      0.23      1000\n",
      "           3       0.27      0.17      0.21      1000\n",
      "           4       0.31      0.38      0.34      1000\n",
      "           5       0.35      0.33      0.34      1000\n",
      "           6       0.37      0.50      0.43      1000\n",
      "           7       0.39      0.36      0.38      1000\n",
      "           8       0.50      0.55      0.52      1000\n",
      "           9       0.40      0.48      0.44      1000\n",
      "\n",
      "    accuracy                           0.39     10000\n",
      "   macro avg       0.38      0.39      0.38     10000\n",
      "weighted avg       0.38      0.39      0.38     10000\n",
      "\n",
      "\n",
      "[[497  45  40  21  43  32  32  35 189  66]\n",
      " [ 34 445  13  43  21  46  66  46  85 201]\n",
      " [100  54 177  72 218  70 150  78  42  39]\n",
      " [ 65  53  58 172 105 171 177  86  29  84]\n",
      " [ 54  30  84  50 382  61 197  85  28  29]\n",
      " [ 41  41  67 122 116 332  97 114  30  40]\n",
      " [ 14  46  44  55 178  65 503  46   9  40]\n",
      " [ 48  52  36  49 129  93  72 363  32 126]\n",
      " [ 99 103  15  26  18  44  23  27 547  98]\n",
      " [ 57 172   9  34  20  27  38  52 106 485]]\n"
     ]
    },
    {
     "data": {
      "text/plain": [
       "<matplotlib.axes._subplots.AxesSubplot at 0x7f8230c6f8d0>"
      ]
     },
     "execution_count": 8,
     "metadata": {},
     "output_type": "execute_result"
    },
    {
     "data": {
      "image/png": "[encoded data removed]",
      "text/plain": [
       "<Figure size 432x288 with 2 Axes>"
      ]
     },
     "metadata": {
      "needs_background": "light"
     },
     "output_type": "display_data"
    }
   ],
   "source": [
    "# make predictions\n",
    "expected_y  = y_test\n",
    "predicted_y = model.predict(X_test)\n",
    "\n",
    "# summarize the fit of the model\n",
    "print(); print(metrics.classification_report(expected_y, predicted_y))\n",
    "print(); print(metrics.confusion_matrix(expected_y, predicted_y))\n",
    "sns.heatmap(metrics.confusion_matrix(expected_y, predicted_y))"
   ]
  },
  {
   "cell_type": "code",
   "execution_count": null,
   "metadata": {},
   "outputs": [],
   "source": []
  }
 ],
 "metadata": {
  "kernelspec": {
   "display_name": "Python 3",
   "language": "python",
   "name": "python3"
  },
  "language_info": {
   "codemirror_mode": {
    "name": "ipython",
    "version": 3
   },
   "file_extension": ".py",
   "mimetype": "text/x-python",
   "name": "python",
   "nbconvert_exporter": "python",
   "pygments_lexer": "ipython3",
   "version": "3.7.7"
  }
 },
 "nbformat": 4,
 "nbformat_minor": 4
}
